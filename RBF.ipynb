{
 "cells": [
  {
   "cell_type": "markdown",
   "metadata": {},
   "source": [
    "# Redes RBF - _Radial Basis Function_\n",
    "---\n",
    "\n",
    "1. [Teorema de Cover](#Cover)<br>\n",
    "    1.1 [Separabilidade](#Separabilidade) <br>\n",
    "    1.2 [Entendendo o Teorema](#entendendo)\n",
    "2. [Interpolação](#Interpolacao)"
   ]
  },
  {
   "cell_type": "markdown",
   "metadata": {},
   "source": [
    "## 1. Teorema de Cover <a name=\"Cover\"></a>\n",
    "---\n",
    "\n",
    "Uma **rede de função de base radial (RBF)** é usada para realizar uma tarefa _complexa_ de classificação de padrões.\n",
    "A ideia é, basicamente, transformar os dados para um espaço de maior dimensionalidade, de uma forma não-linear.\n",
    "\n",
    "Para justificarmos o motivo é necessário entender o _Teorema de Cover_:\n",
    "\n",
    "> Um problema complexo de classificação de padrões dispostos não linearmente em um espaço de alta dimensão tem maior probabilidade de ser linearmente separável do que em um espaço de baixa dimensionalidade.\n",
    "    \n",
    "Primeiramente vamos entender o conceito de separabilidade.    \n",
    "    \n",
    "### 1.1 Separabilidade <a name=\"Separabilidade\"></a>   \n",
    "\n",
    "Seja $\\mathscr{H} = \\{x_{1},...,x_{N}\\} $ um conjunto de $N$ entradas (_amostras_) divididias em duas classes $\\mathscr{H}_1$ e $\\mathscr{H}_2$, portanto, problema de classificação binário e considere uma família de superfícies onde cada uma divide naturalmente um conjunto de entradas em duas regiões. Portanto, $\\mathscr{H}$ é separável se existe _uma superfície_ da família que separe os pontos de $\\mathscr{H}_1$ dos pontos de $\\mathscr{H}_2$ em duas regiões. Como mostra a imagem a seguir:\n",
    "\n",
    "![dataset_1](./imgs/dataset_1.png)\n",
    "\n",
    "Em seguida, $\\forall{x} \\in \\mathscr{H}$ definimos um vetor $\\varphi(x)$ constituído de funções reais $\\{\\varphi(x)_i|i=1,...,m_1\\}$ como mostrado a seguir:\n",
    "\n",
    "$$ \\varphi(x) = [\\varphi_1(x), \\varphi_2(x), ..., \\varphi_{m_1}(x)]^{T} $$\n",
    "\n",
    "> $x \\in \\mathbb{R}^{m_0}$ : o vetor de entrada $x$ pertence a um espaço de dimensão $m_0$.\n",
    "\n",
    "O vetor $\\varphi(x)$ mapeia o vetor de entrada $x$ num espaço de dimensionalidade $m_1$, onde normalmente $\\mathbb{R}^{m_0} < \\mathbb{R}^{m_1}$, ou seja, mapeia para um espaço com maior dimensionalidade. Na figura a seguir, podemos ver pontos em $\\mathbb{R}^2$ sendo mapeados em $\\mathbb{R}^3$:\n",
    "\n",
    "![dimension_1](./imgs/dimension_1.jpg)\n",
    "\n",
    "> $\\boldsymbol{\\varphi_i(x)}$ : é uma _função oculta_ e o espaço que abrange estas funções ocultas $\\{\\varphi_i(x)\\}^{m_1}_{i=1}$ é o o _espaço oculto_ ou _espaço de características_.\n",
    "\n",
    "Um conjunto de dados com duas classes $\\mathscr{H}_1$ e $\\mathscr{H}_2$ é dito _separável_ por $\\varphi$ se existir um vetor $\\boldsymbol{w}$ de dimensão $m_1$ para o qual podemos escrever:\n",
    "\n",
    "$$\n",
    "\\begin{split}\n",
    "    w^T \\cdot \\varphi(x) > 0,\\quad x \\in \\mathscr{H}_1 \\\\\n",
    "    w^T \\cdot \\varphi(x) < 0,\\quad x \\in \\mathscr{H}_2\n",
    "\\end{split}\n",
    "$$\n",
    "\n",
    "O hiperplano separador, que descreve a superfície de separação no espaço oculto $\\varphi$, é definido por:\n",
    "\n",
    "$$ w^T \\cdot \\varphi(x) = 0 $$\n",
    "\n",
    "## 1.2 Entendendo o teorema <a name=\"entendendo\"></a>\n",
    "\n",
    "Em um experimento probabilístico, a separabilidade de um conjunto de padrões se torna um **evento aleatório** que depende da dicotomia escolhida e da distribuição espacial dos dados.\n",
    "\n",
    "Suponha que:\n",
    "\n",
    "- Os padrões $\\boldsymbol{x_1, x_2, ..., x_N}$ sejam escolhidos independentemente, de acordo com uma medida de probabilidade imposta no espaço de entrada.\n",
    "- Todas as dicotomias de $\\mathscr{H} = \\{x_i\\}^{N}_{i=1}$ são equiprováveis.\n",
    "\n",
    "A equação abaixo representa a probabilidade de que uma dicotomia particular escolhida ao acaso seja separável por $\\varphi$, onde a classe de superfícies de separação escolhida tenha $m_1$ graus de liberdade, i.e., está em $\\mathbb{R}^{m_1}$.\n",
    "\n",
    "$$ P(N,m_1) = \\left(\\frac{1}{2}\\right)^{N-1} \\cdot \\sum_{m=0}^{m_1 - 1}\n",
    "    \\left(\\!\n",
    "        \\begin{array}{c}\n",
    "            N-1 \\\\\n",
    "            m\n",
    "        \\end{array}\n",
    "    \\!\\right) $$\n",
    "\n",
    "Esta equação personifica a essência do **Teorema da separabilidade de Cover**. Quanto mais alta fizermos a dimensão $m_1$ do espaço oculto, mais próximo de 1 será a probabilidade $P(N,m_1)$.\n",
    "\n",
    "Em suma, o terorema engloba duas etapas:\n",
    "\n",
    "1. A formulação não-linear da função oculta definida por $\\{\\varphi_i(x)\\}^{m_1}_{i=1}$, onde $x$ é o vetor de entrada.\n",
    "\n",
    "2. A alta dimensionalidade do espaço oculto comparado com o espaço de entrada original. A dimensão do espaço oculto é determinada pelo valor de $m_1$, i.e., o número de unidades ocultas."
   ]
  },
  {
   "cell_type": "code",
   "execution_count": 1,
   "metadata": {},
   "outputs": [],
   "source": [
    "from sklearn.datasets import make_circles\n",
    "\n",
    "X, Y = make_circles()\n"
   ]
  },
  {
   "cell_type": "code",
   "execution_count": null,
   "metadata": {},
   "outputs": [],
   "source": []
  }
 ],
 "metadata": {
  "kernelspec": {
   "display_name": "DS_ML",
   "language": "python",
   "name": "ds_ml"
  },
  "language_info": {
   "codemirror_mode": {
    "name": "ipython",
    "version": 3
   },
   "file_extension": ".py",
   "mimetype": "text/x-python",
   "name": "python",
   "nbconvert_exporter": "python",
   "pygments_lexer": "ipython3",
   "version": "3.6.7"
  }
 },
 "nbformat": 4,
 "nbformat_minor": 2
}
